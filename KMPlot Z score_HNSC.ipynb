{
 "cells": [
  {
   "cell_type": "code",
   "execution_count": 1,
   "metadata": {},
   "outputs": [],
   "source": [
    "import pandas as pd\n",
    "import numpy as np\n",
    "import sys\n",
    "sys.path.insert(0, \"/cellarold/users/mpagadal/Programs/anaconda3/lib/python3.7/site-packages\")\n",
    "import lifelines\n",
    "\n",
    "from lifelines import KaplanMeierFitter\n",
    "from lifelines import CoxPHFitter\n",
    "from lifelines.statistics import logrank_test\n",
    "from scipy.stats import pearsonr, spearmanr, mannwhitneyu\n",
    "\n",
    "import matplotlib.pyplot as plt\n",
    "import seaborn as sns\n",
    "sns.set_style('white')\n",
    "%matplotlib inline"
   ]
  },
  {
   "cell_type": "code",
   "execution_count": 2,
   "metadata": {},
   "outputs": [],
   "source": [
    "### STATS ###\n",
    "import statsmodels.stats.multitest as multi\n",
    "from matplotlib.collections import PatchCollection"
   ]
  },
  {
   "cell_type": "code",
   "execution_count": 3,
   "metadata": {},
   "outputs": [],
   "source": [
    "import matplotlib\n",
    "matplotlib.rcParams['pdf.fonttype'] = 42\n",
    "matplotlib.rcParams['ps.fonttype'] = 42"
   ]
  },
  {
   "cell_type": "code",
   "execution_count": 6,
   "metadata": {},
   "outputs": [],
   "source": [
    "# tutorials:\n",
    "    # pandas\n",
    "    # lifelines"
   ]
  },
  {
   "cell_type": "markdown",
   "metadata": {},
   "source": [
    "## Get survival information"
   ]
  },
  {
   "cell_type": "code",
   "execution_count": 4,
   "metadata": {},
   "outputs": [],
   "source": [
    "def make_df(surv,surv_type,rna):\n",
    "    #get survival dataframe\n",
    "    surv=pd.read_csv(surv,index_col=0)\n",
    "    surv=surv.rename(columns={\"bcr_patient_barcode\":\"FID\"})\n",
    "    #get genotypes\n",
    "    pheno=pd.read_csv(rna,delimiter=\"\\t\")\n",
    "    #combine dataframes\n",
    "    full_surv=pd.merge(surv[[\"FID\",surv_type,surv_type+\".time\"]],pheno,on=\"FID\")\n",
    "    print(full_surv.shape)\n",
    "    #full_surv=full_surv[full_surv[surv_type+\".time\"]<1825]\n",
    "    return(full_surv)"
   ]
  },
  {
   "cell_type": "code",
   "execution_count": 5,
   "metadata": {},
   "outputs": [
    {
     "name": "stdout",
     "output_type": "stream",
     "text": [
      "        Unnamed: 0        A1BG      A1CF     A2BP1     A2LD1       A2M  \\\n",
      "0     TCGA-02-0047    125.0070     0.000  244.6300   55.0724  34012.40   \n",
      "1     TCGA-02-0055    391.8040     0.000  137.3510   84.0140  42876.30   \n",
      "2     TCGA-02-2483    271.8520     0.000  111.0290   34.5372  21058.50   \n",
      "3     TCGA-02-2485     83.9429     0.000  257.1430  126.2860   7798.53   \n",
      "4     TCGA-02-2486    108.2560     0.000    4.2683  190.5300  40971.40   \n",
      "...            ...         ...       ...       ...       ...       ...   \n",
      "9697  TCGA-ZS-A9CF  14368.4000  1576.150    0.0000  321.7230  29738.70   \n",
      "9698  TCGA-ZS-A9CG  18745.0000  2378.060    0.0000  261.8000  10621.90   \n",
      "9699  TCGA-ZT-A8OM   2840.3900     0.000    0.0000   90.1084  11326.30   \n",
      "9700  TCGA-ZU-A8S4    169.7020   101.708    0.0000   79.7557   9801.29   \n",
      "9701  TCGA-ZX-AA5X     79.3117     0.000    0.7734   59.6984   9581.55   \n",
      "\n",
      "          A2ML1    A4GALT   A4GNT     AAA1  ...    ZWILCH      ZWINT     ZXDA  \\\n",
      "0       41.1814   36.2642  1.2293   1.2293  ...  260.2110   404.4380  65.1526   \n",
      "1        1.6819  487.7360  0.5606   0.0000  ...  467.5600   245.5500  42.6069   \n",
      "2        2.5330   86.9657  0.0000   0.0000  ...  682.2420   669.1290  19.4195   \n",
      "3      211.4290  155.2380  0.4762   0.0000  ...  440.3860   441.9050  53.8095   \n",
      "4      103.6590   43.9024  0.0000   0.6098  ...  166.6890    74.3902  31.7073   \n",
      "...         ...       ...     ...      ...  ...       ...        ...      ...   \n",
      "9697     0.6892  407.3050  0.6892  19.2970  ...  383.7910  1179.1900  55.8236   \n",
      "9698     0.0000  233.7620  0.0000   0.0000  ...   97.3436   111.0540  34.2759   \n",
      "9699     0.0000  253.2020  2.9557   0.0000  ...  366.5020  1091.6300  14.7783   \n",
      "9700     0.0000  627.1970  1.9943   0.0000  ...  375.9790  1374.5500  28.4183   \n",
      "9701  3899.4600  926.5280  0.7734   0.0000  ...  548.1980  1044.8600  23.2019   \n",
      "\n",
      "          ZXDB      ZXDC    ZYG11A    ZYG11B       ZYX     ZZEF1     ZZZ3  \n",
      "0      356.495  1108.820    0.6146  1207.170   3867.97  1397.090  603.583  \n",
      "1      280.308   607.708    5.0456   924.457  11481.40   606.027  718.150  \n",
      "2      406.121   866.280   44.3272  1208.650   5066.81   832.084  705.435  \n",
      "3      274.286  1345.710    0.0000  1070.000   5090.95  1139.520  700.476  \n",
      "4      198.171   652.439    0.0000   689.634   7800.00   627.439  527.439  \n",
      "...        ...       ...       ...       ...       ...       ...      ...  \n",
      "9697  1332.180  1458.300   55.1344  1257.060   1172.30   431.427  836.664  \n",
      "9698   237.875   856.898   89.8029  2052.440   1963.32   629.991  622.451  \n",
      "9699   107.389   765.517    4.9261   273.892   9199.01  1075.860  304.433  \n",
      "9700   267.232   614.733    0.4986   726.412  10561.60   998.629  636.171  \n",
      "9701   215.004  1088.940  120.6500   847.641   5493.43  1112.920  854.602  \n",
      "\n",
      "[9702 rows x 20505 columns]\n"
     ]
    }
   ],
   "source": [
    "#full rna ~50K\n",
    "rna=pd.read_csv(\"C:/Users/symoo/Dropbox/So Youn Moon - Engler Lab/KM Plot/TCGA/all.tumor.rna.tsv\",delimiter=\"\\t\")\n",
    "print(rna)"
   ]
  },
  {
   "cell_type": "code",
   "execution_count": 6,
   "metadata": {
    "scrolled": true
   },
   "outputs": [],
   "source": [
    "# selection of HNSC\n",
    "hnsc=pd.read_csv(\"C:/Users/symoo/Dropbox/So Youn Moon - Engler Lab/KM Plot/TCGA/TCGA_Case ID_HNSC.csv\")\n",
    "hnsc_pts=hnsc[\"hnsc_patient_barcode\"].tolist()"
   ]
  },
  {
   "cell_type": "code",
   "execution_count": 52,
   "metadata": {},
   "outputs": [],
   "source": [
    "#loading in the genes\n",
    "genes=pd.read_csv(\"genes_oscc_no HSPG2 FSCN1.csv\",header=None)\n",
    "pheno=rna[[\"Unnamed: 0\"]+[x for x in genes[0].tolist() if x in rna.columns.tolist()]]\n",
    "pheno=pheno.rename(columns={\"Unnamed: 0\":\"FID\"})\n",
    "pheno.to_csv(\"rna_oscc_gene_no HSPG2 FSCN1.tsv\",sep=\"\\t\",index=None)"
   ]
  },
  {
   "cell_type": "code",
   "execution_count": 53,
   "metadata": {},
   "outputs": [
    {
     "name": "stdout",
     "output_type": "stream",
     "text": [
      "(9676, 8)\n"
     ]
    }
   ],
   "source": [
    "os_surv=make_df(\"C:/Users/symoo/Dropbox/So Youn Moon - Engler Lab/KM Plot/TCGA/Liu2018.TCGA_survival.csv\",\"OS\",\"rna_oscc_gene_no HSPG2 FSCN1.tsv\")"
   ]
  },
  {
   "cell_type": "code",
   "execution_count": 54,
   "metadata": {},
   "outputs": [
    {
     "name": "stdout",
     "output_type": "stream",
     "text": [
      "(9676, 8)\n"
     ]
    }
   ],
   "source": [
    "pfi_surv=make_df(\"C:/Users/symoo/Dropbox/So Youn Moon - Engler Lab/KM Plot/TCGA/Liu2018.TCGA_survival.csv\",\"PFI\",\"rna_oscc_gene_no HSPG2 FSCN1.tsv\")"
   ]
  },
  {
   "cell_type": "code",
   "execution_count": 55,
   "metadata": {},
   "outputs": [],
   "source": [
    "#subsetting survival data to HNSC\n",
    "os_surv_hnsc=os_surv[os_surv[\"FID\"].isin(hnsc_pts)]\n",
    "pfi_surv_hnsc=pfi_surv[pfi_surv[\"FID\"].isin(hnsc_pts)]"
   ]
  },
  {
   "cell_type": "code",
   "execution_count": 56,
   "metadata": {},
   "outputs": [
    {
     "name": "stdout",
     "output_type": "stream",
     "text": [
      "               FID   OS  OS.time      SDC4     ICAM1        FN1      RHOD  \\\n",
      "2756  TCGA-4P-AA8J  0.0    102.0   7723.31   3734.40  122122.00  2278.850   \n",
      "2757  TCGA-BA-4074  1.0    462.0  17101.30   1989.34   95369.30  6075.160   \n",
      "2758  TCGA-BA-4075  1.0    283.0  29713.00   1375.32   42006.70  4672.650   \n",
      "2760  TCGA-BA-4077  1.0   1134.0  13060.20   3238.21   15856.10  1421.560   \n",
      "2774  TCGA-BA-6871  1.0    108.0   1960.77  11332.20   61040.20   402.572   \n",
      "...            ...  ...      ...       ...       ...        ...       ...   \n",
      "3243  TCGA-QK-AA3K  0.0    253.0   2242.77   3855.33  210930.00   858.857   \n",
      "3247  TCGA-T2-A6WZ  1.0    484.0   5483.76   1669.65    6987.68  4541.990   \n",
      "3270  TCGA-UF-A7JS  1.0    680.0  16310.90   2346.79    3641.26  7357.250   \n",
      "3273  TCGA-UP-A6WW  0.0    518.0  20406.10   5338.79   22111.50  1330.080   \n",
      "3275  TCGA-WA-A7H4  0.0    443.0   7153.04   1789.26   52455.90  2401.440   \n",
      "\n",
      "         ITGAV  \n",
      "2756   4382.68  \n",
      "2757  17909.80  \n",
      "2758   7588.91  \n",
      "2760   6872.47  \n",
      "2774   2968.81  \n",
      "...        ...  \n",
      "3243   3313.34  \n",
      "3247   1784.99  \n",
      "3270   1756.35  \n",
      "3273   6651.45  \n",
      "3275  13270.80  \n",
      "\n",
      "[153 rows x 8 columns]\n",
      "               FID   OS  OS.time    SDC4    ICAM1      FN1     RHOD    ITGAV\n",
      "2919  TCGA-CQ-A4CA  0.0      NaN  6125.0  3757.81  11005.4  4801.08  3555.29\n"
     ]
    }
   ],
   "source": [
    "#Check if there is null value in the dataframe\n",
    "print(os_surv_hnsc)\n",
    "is_NaN=os_surv_hnsc.isnull()\n",
    "row_has_NaN=is_NaN.any(axis=1)\n",
    "rows_with_NaN=os_surv_hnsc[row_has_NaN]\n",
    "print(rows_with_NaN)\n"
   ]
  },
  {
   "cell_type": "code",
   "execution_count": 57,
   "metadata": {},
   "outputs": [
    {
     "name": "stdout",
     "output_type": "stream",
     "text": [
      "               FID  PFI  PFI.time      SDC4     ICAM1        FN1      RHOD  \\\n",
      "2756  TCGA-4P-AA8J  0.0     102.0   7723.31   3734.40  122122.00  2278.850   \n",
      "2757  TCGA-BA-4074  1.0     396.0  17101.30   1989.34   95369.30  6075.160   \n",
      "2758  TCGA-BA-4075  1.0     236.0  29713.00   1375.32   42006.70  4672.650   \n",
      "2760  TCGA-BA-4077  1.0    1134.0  13060.20   3238.21   15856.10  1421.560   \n",
      "2774  TCGA-BA-6871  1.0     108.0   1960.77  11332.20   61040.20   402.572   \n",
      "...            ...  ...       ...       ...       ...        ...       ...   \n",
      "3243  TCGA-QK-AA3K  0.0     253.0   2242.77   3855.33  210930.00   858.857   \n",
      "3247  TCGA-T2-A6WZ  1.0     229.0   5483.76   1669.65    6987.68  4541.990   \n",
      "3270  TCGA-UF-A7JS  1.0     519.0  16310.90   2346.79    3641.26  7357.250   \n",
      "3273  TCGA-UP-A6WW  0.0     518.0  20406.10   5338.79   22111.50  1330.080   \n",
      "3275  TCGA-WA-A7H4  0.0     443.0   7153.04   1789.26   52455.90  2401.440   \n",
      "\n",
      "         ITGAV  \n",
      "2756   4382.68  \n",
      "2757  17909.80  \n",
      "2758   7588.91  \n",
      "2760   6872.47  \n",
      "2774   2968.81  \n",
      "...        ...  \n",
      "3243   3313.34  \n",
      "3247   1784.99  \n",
      "3270   1756.35  \n",
      "3273   6651.45  \n",
      "3275  13270.80  \n",
      "\n",
      "[153 rows x 8 columns]\n",
      "               FID  PFI  PFI.time    SDC4    ICAM1      FN1     RHOD    ITGAV\n",
      "2919  TCGA-CQ-A4CA  0.0       NaN  6125.0  3757.81  11005.4  4801.08  3555.29\n"
     ]
    }
   ],
   "source": [
    "print(pfi_surv_hnsc)\n",
    "is_NaN_pfi=pfi_surv_hnsc.isnull()\n",
    "row_has_NaN_pfi=is_NaN_pfi.any(axis=1)\n",
    "rows_with_NaN_pfi=pfi_surv_hnsc[row_has_NaN_pfi]\n",
    "print(rows_with_NaN_pfi)"
   ]
  },
  {
   "cell_type": "code",
   "execution_count": 58,
   "metadata": {},
   "outputs": [
    {
     "data": {
      "text/html": [
       "<div>\n",
       "<style scoped>\n",
       "    .dataframe tbody tr th:only-of-type {\n",
       "        vertical-align: middle;\n",
       "    }\n",
       "\n",
       "    .dataframe tbody tr th {\n",
       "        vertical-align: top;\n",
       "    }\n",
       "\n",
       "    .dataframe thead th {\n",
       "        text-align: right;\n",
       "    }\n",
       "</style>\n",
       "<table border=\"1\" class=\"dataframe\">\n",
       "  <thead>\n",
       "    <tr style=\"text-align: right;\">\n",
       "      <th></th>\n",
       "      <th>OS</th>\n",
       "      <th>OS.time</th>\n",
       "      <th>SDC4</th>\n",
       "      <th>ICAM1</th>\n",
       "      <th>FN1</th>\n",
       "      <th>RHOD</th>\n",
       "      <th>ITGAV</th>\n",
       "    </tr>\n",
       "    <tr>\n",
       "      <th>FID</th>\n",
       "      <th></th>\n",
       "      <th></th>\n",
       "      <th></th>\n",
       "      <th></th>\n",
       "      <th></th>\n",
       "      <th></th>\n",
       "      <th></th>\n",
       "    </tr>\n",
       "  </thead>\n",
       "  <tbody>\n",
       "    <tr>\n",
       "      <th>TCGA-4P-AA8J</th>\n",
       "      <td>0.0</td>\n",
       "      <td>102.0</td>\n",
       "      <td>7723.31</td>\n",
       "      <td>3734.40</td>\n",
       "      <td>122122.0</td>\n",
       "      <td>2278.850</td>\n",
       "      <td>4382.68</td>\n",
       "    </tr>\n",
       "    <tr>\n",
       "      <th>TCGA-BA-4074</th>\n",
       "      <td>1.0</td>\n",
       "      <td>462.0</td>\n",
       "      <td>17101.30</td>\n",
       "      <td>1989.34</td>\n",
       "      <td>95369.3</td>\n",
       "      <td>6075.160</td>\n",
       "      <td>17909.80</td>\n",
       "    </tr>\n",
       "    <tr>\n",
       "      <th>TCGA-BA-4075</th>\n",
       "      <td>1.0</td>\n",
       "      <td>283.0</td>\n",
       "      <td>29713.00</td>\n",
       "      <td>1375.32</td>\n",
       "      <td>42006.7</td>\n",
       "      <td>4672.650</td>\n",
       "      <td>7588.91</td>\n",
       "    </tr>\n",
       "    <tr>\n",
       "      <th>TCGA-BA-4077</th>\n",
       "      <td>1.0</td>\n",
       "      <td>1134.0</td>\n",
       "      <td>13060.20</td>\n",
       "      <td>3238.21</td>\n",
       "      <td>15856.1</td>\n",
       "      <td>1421.560</td>\n",
       "      <td>6872.47</td>\n",
       "    </tr>\n",
       "    <tr>\n",
       "      <th>TCGA-BA-6871</th>\n",
       "      <td>1.0</td>\n",
       "      <td>108.0</td>\n",
       "      <td>1960.77</td>\n",
       "      <td>11332.20</td>\n",
       "      <td>61040.2</td>\n",
       "      <td>402.572</td>\n",
       "      <td>2968.81</td>\n",
       "    </tr>\n",
       "  </tbody>\n",
       "</table>\n",
       "</div>"
      ],
      "text/plain": [
       "               OS  OS.time      SDC4     ICAM1       FN1      RHOD     ITGAV\n",
       "FID                                                                         \n",
       "TCGA-4P-AA8J  0.0    102.0   7723.31   3734.40  122122.0  2278.850   4382.68\n",
       "TCGA-BA-4074  1.0    462.0  17101.30   1989.34   95369.3  6075.160  17909.80\n",
       "TCGA-BA-4075  1.0    283.0  29713.00   1375.32   42006.7  4672.650   7588.91\n",
       "TCGA-BA-4077  1.0   1134.0  13060.20   3238.21   15856.1  1421.560   6872.47\n",
       "TCGA-BA-6871  1.0    108.0   1960.77  11332.20   61040.2   402.572   2968.81"
      ]
     },
     "execution_count": 58,
     "metadata": {},
     "output_type": "execute_result"
    }
   ],
   "source": [
    "os_surv_hnsc=os_surv_hnsc.set_index(\"FID\")\n",
    "os_surv_hnsc.head()"
   ]
  },
  {
   "cell_type": "code",
   "execution_count": 59,
   "metadata": {},
   "outputs": [],
   "source": [
    "os_surv_hnsc=os_surv_hnsc.drop(\"TCGA-CQ-A4CA\")"
   ]
  },
  {
   "cell_type": "code",
   "execution_count": 60,
   "metadata": {},
   "outputs": [
    {
     "name": "stdout",
     "output_type": "stream",
     "text": [
      "              FID   OS  OS.time      SDC4     ICAM1        FN1      RHOD  \\\n",
      "0    TCGA-4P-AA8J  0.0    102.0   7723.31   3734.40  122122.00  2278.850   \n",
      "1    TCGA-BA-4074  1.0    462.0  17101.30   1989.34   95369.30  6075.160   \n",
      "2    TCGA-BA-4075  1.0    283.0  29713.00   1375.32   42006.70  4672.650   \n",
      "3    TCGA-BA-4077  1.0   1134.0  13060.20   3238.21   15856.10  1421.560   \n",
      "4    TCGA-BA-6871  1.0    108.0   1960.77  11332.20   61040.20   402.572   \n",
      "..            ...  ...      ...       ...       ...        ...       ...   \n",
      "147  TCGA-QK-AA3K  0.0    253.0   2242.77   3855.33  210930.00   858.857   \n",
      "148  TCGA-T2-A6WZ  1.0    484.0   5483.76   1669.65    6987.68  4541.990   \n",
      "149  TCGA-UF-A7JS  1.0    680.0  16310.90   2346.79    3641.26  7357.250   \n",
      "150  TCGA-UP-A6WW  0.0    518.0  20406.10   5338.79   22111.50  1330.080   \n",
      "151  TCGA-WA-A7H4  0.0    443.0   7153.04   1789.26   52455.90  2401.440   \n",
      "\n",
      "        ITGAV  \n",
      "0     4382.68  \n",
      "1    17909.80  \n",
      "2     7588.91  \n",
      "3     6872.47  \n",
      "4     2968.81  \n",
      "..        ...  \n",
      "147   3313.34  \n",
      "148   1784.99  \n",
      "149   1756.35  \n",
      "150   6651.45  \n",
      "151  13270.80  \n",
      "\n",
      "[152 rows x 8 columns]\n"
     ]
    }
   ],
   "source": [
    "os_surv_hnsc=os_surv_hnsc.reset_index()\n",
    "print(os_surv_hnsc)"
   ]
  },
  {
   "cell_type": "code",
   "execution_count": 61,
   "metadata": {
    "scrolled": true
   },
   "outputs": [
    {
     "data": {
      "text/html": [
       "<div>\n",
       "<style scoped>\n",
       "    .dataframe tbody tr th:only-of-type {\n",
       "        vertical-align: middle;\n",
       "    }\n",
       "\n",
       "    .dataframe tbody tr th {\n",
       "        vertical-align: top;\n",
       "    }\n",
       "\n",
       "    .dataframe thead th {\n",
       "        text-align: right;\n",
       "    }\n",
       "</style>\n",
       "<table border=\"1\" class=\"dataframe\">\n",
       "  <thead>\n",
       "    <tr style=\"text-align: right;\">\n",
       "      <th></th>\n",
       "      <th>PFI</th>\n",
       "      <th>PFI.time</th>\n",
       "      <th>SDC4</th>\n",
       "      <th>ICAM1</th>\n",
       "      <th>FN1</th>\n",
       "      <th>RHOD</th>\n",
       "      <th>ITGAV</th>\n",
       "    </tr>\n",
       "    <tr>\n",
       "      <th>FID</th>\n",
       "      <th></th>\n",
       "      <th></th>\n",
       "      <th></th>\n",
       "      <th></th>\n",
       "      <th></th>\n",
       "      <th></th>\n",
       "      <th></th>\n",
       "    </tr>\n",
       "  </thead>\n",
       "  <tbody>\n",
       "    <tr>\n",
       "      <th>TCGA-4P-AA8J</th>\n",
       "      <td>0.0</td>\n",
       "      <td>102.0</td>\n",
       "      <td>7723.31</td>\n",
       "      <td>3734.40</td>\n",
       "      <td>122122.0</td>\n",
       "      <td>2278.850</td>\n",
       "      <td>4382.68</td>\n",
       "    </tr>\n",
       "    <tr>\n",
       "      <th>TCGA-BA-4074</th>\n",
       "      <td>1.0</td>\n",
       "      <td>396.0</td>\n",
       "      <td>17101.30</td>\n",
       "      <td>1989.34</td>\n",
       "      <td>95369.3</td>\n",
       "      <td>6075.160</td>\n",
       "      <td>17909.80</td>\n",
       "    </tr>\n",
       "    <tr>\n",
       "      <th>TCGA-BA-4075</th>\n",
       "      <td>1.0</td>\n",
       "      <td>236.0</td>\n",
       "      <td>29713.00</td>\n",
       "      <td>1375.32</td>\n",
       "      <td>42006.7</td>\n",
       "      <td>4672.650</td>\n",
       "      <td>7588.91</td>\n",
       "    </tr>\n",
       "    <tr>\n",
       "      <th>TCGA-BA-4077</th>\n",
       "      <td>1.0</td>\n",
       "      <td>1134.0</td>\n",
       "      <td>13060.20</td>\n",
       "      <td>3238.21</td>\n",
       "      <td>15856.1</td>\n",
       "      <td>1421.560</td>\n",
       "      <td>6872.47</td>\n",
       "    </tr>\n",
       "    <tr>\n",
       "      <th>TCGA-BA-6871</th>\n",
       "      <td>1.0</td>\n",
       "      <td>108.0</td>\n",
       "      <td>1960.77</td>\n",
       "      <td>11332.20</td>\n",
       "      <td>61040.2</td>\n",
       "      <td>402.572</td>\n",
       "      <td>2968.81</td>\n",
       "    </tr>\n",
       "  </tbody>\n",
       "</table>\n",
       "</div>"
      ],
      "text/plain": [
       "              PFI  PFI.time      SDC4     ICAM1       FN1      RHOD     ITGAV\n",
       "FID                                                                          \n",
       "TCGA-4P-AA8J  0.0     102.0   7723.31   3734.40  122122.0  2278.850   4382.68\n",
       "TCGA-BA-4074  1.0     396.0  17101.30   1989.34   95369.3  6075.160  17909.80\n",
       "TCGA-BA-4075  1.0     236.0  29713.00   1375.32   42006.7  4672.650   7588.91\n",
       "TCGA-BA-4077  1.0    1134.0  13060.20   3238.21   15856.1  1421.560   6872.47\n",
       "TCGA-BA-6871  1.0     108.0   1960.77  11332.20   61040.2   402.572   2968.81"
      ]
     },
     "execution_count": 61,
     "metadata": {},
     "output_type": "execute_result"
    }
   ],
   "source": [
    "pfi_surv_hnsc=pfi_surv_hnsc.set_index(\"FID\")\n",
    "pfi_surv_hnsc.head()"
   ]
  },
  {
   "cell_type": "code",
   "execution_count": 62,
   "metadata": {},
   "outputs": [],
   "source": [
    "pfi_surv_hnsc=pfi_surv_hnsc.drop(\"TCGA-CQ-A4CA\")"
   ]
  },
  {
   "cell_type": "code",
   "execution_count": 63,
   "metadata": {},
   "outputs": [
    {
     "name": "stdout",
     "output_type": "stream",
     "text": [
      "              FID  PFI  PFI.time      SDC4     ICAM1        FN1      RHOD  \\\n",
      "0    TCGA-4P-AA8J  0.0     102.0   7723.31   3734.40  122122.00  2278.850   \n",
      "1    TCGA-BA-4074  1.0     396.0  17101.30   1989.34   95369.30  6075.160   \n",
      "2    TCGA-BA-4075  1.0     236.0  29713.00   1375.32   42006.70  4672.650   \n",
      "3    TCGA-BA-4077  1.0    1134.0  13060.20   3238.21   15856.10  1421.560   \n",
      "4    TCGA-BA-6871  1.0     108.0   1960.77  11332.20   61040.20   402.572   \n",
      "..            ...  ...       ...       ...       ...        ...       ...   \n",
      "147  TCGA-QK-AA3K  0.0     253.0   2242.77   3855.33  210930.00   858.857   \n",
      "148  TCGA-T2-A6WZ  1.0     229.0   5483.76   1669.65    6987.68  4541.990   \n",
      "149  TCGA-UF-A7JS  1.0     519.0  16310.90   2346.79    3641.26  7357.250   \n",
      "150  TCGA-UP-A6WW  0.0     518.0  20406.10   5338.79   22111.50  1330.080   \n",
      "151  TCGA-WA-A7H4  0.0     443.0   7153.04   1789.26   52455.90  2401.440   \n",
      "\n",
      "        ITGAV  \n",
      "0     4382.68  \n",
      "1    17909.80  \n",
      "2     7588.91  \n",
      "3     6872.47  \n",
      "4     2968.81  \n",
      "..        ...  \n",
      "147   3313.34  \n",
      "148   1784.99  \n",
      "149   1756.35  \n",
      "150   6651.45  \n",
      "151  13270.80  \n",
      "\n",
      "[152 rows x 8 columns]\n"
     ]
    }
   ],
   "source": [
    "pfi_surv_hnsc=pfi_surv_hnsc.reset_index()\n",
    "print(pfi_surv_hnsc)"
   ]
  },
  {
   "cell_type": "markdown",
   "metadata": {},
   "source": [
    "## Z score"
   ]
  },
  {
   "cell_type": "code",
   "execution_count": 64,
   "metadata": {},
   "outputs": [],
   "source": [
    "import numpy as np\n",
    "import scipy.stats as stats"
   ]
  },
  {
   "cell_type": "code",
   "execution_count": 65,
   "metadata": {},
   "outputs": [
    {
     "name": "stdout",
     "output_type": "stream",
     "text": [
      "                  SDC4     ICAM1        FN1      RHOD     ITGAV\n",
      "FID                                                            \n",
      "TCGA-4P-AA8J   7723.31   3734.40  122122.00  2278.850   4382.68\n",
      "TCGA-BA-4074  17101.30   1989.34   95369.30  6075.160  17909.80\n",
      "TCGA-BA-4075  29713.00   1375.32   42006.70  4672.650   7588.91\n",
      "TCGA-BA-4077  13060.20   3238.21   15856.10  1421.560   6872.47\n",
      "TCGA-BA-6871   1960.77  11332.20   61040.20   402.572   2968.81\n",
      "...                ...       ...        ...       ...       ...\n",
      "TCGA-QK-AA3K   2242.77   3855.33  210930.00   858.857   3313.34\n",
      "TCGA-T2-A6WZ   5483.76   1669.65    6987.68  4541.990   1784.99\n",
      "TCGA-UF-A7JS  16310.90   2346.79    3641.26  7357.250   1756.35\n",
      "TCGA-UP-A6WW  20406.10   5338.79   22111.50  1330.080   6651.45\n",
      "TCGA-WA-A7H4   7153.04   1789.26   52455.90  2401.440  13270.80\n",
      "\n",
      "[152 rows x 5 columns]\n"
     ]
    }
   ],
   "source": [
    "df_rna=os_surv_hnsc[[\"FID\"]+[x for x in genes[0].tolist() if x in rna.columns.tolist()]]\n",
    "df_rna=df_rna.set_index(\"FID\")\n",
    "print(df_rna)"
   ]
  },
  {
   "cell_type": "code",
   "execution_count": 66,
   "metadata": {
    "scrolled": false
   },
   "outputs": [
    {
     "name": "stdout",
     "output_type": "stream",
     "text": [
      "                  SDC4     ICAM1       FN1      RHOD     ITGAV\n",
      "FID                                                           \n",
      "TCGA-4P-AA8J -0.271076  0.158347  0.395197  0.309330 -0.510373\n",
      "TCGA-BA-4074  1.525685 -0.461650  0.186222 -1.294710  3.405268\n",
      "TCGA-BA-4075  3.942004 -0.679803 -0.230614 -0.702113  0.417721\n",
      "TCGA-BA-4077  0.751437 -0.017943 -0.434886  0.671557  0.210336\n",
      "TCGA-BA-6871 -1.375141  2.857744 -0.081936  1.102106 -0.919640\n",
      "...                ...       ...       ...       ...       ...\n",
      "TCGA-QK-AA3K -1.321112  0.201312  1.088910  0.909314 -0.819910\n",
      "TCGA-T2-A6WZ -0.700159 -0.575231 -0.504160 -0.646906 -1.262316\n",
      "TCGA-UF-A7JS  1.374250 -0.334653 -0.530301 -1.836426 -1.270606\n",
      "TCGA-UP-A6WW  2.158863  0.728365 -0.386023  0.710210  0.146359\n",
      "TCGA-WA-A7H4 -0.380336 -0.532736 -0.148991  0.257532  2.062435\n",
      "\n",
      "[152 rows x 5 columns]\n",
      "              FID   OS  OS.time      SDC4     ICAM1        FN1      RHOD  \\\n",
      "0    TCGA-4P-AA8J  0.0    102.0   7723.31   3734.40  122122.00  2278.850   \n",
      "1    TCGA-BA-4074  1.0    462.0  17101.30   1989.34   95369.30  6075.160   \n",
      "2    TCGA-BA-4075  1.0    283.0  29713.00   1375.32   42006.70  4672.650   \n",
      "3    TCGA-BA-4077  1.0   1134.0  13060.20   3238.21   15856.10  1421.560   \n",
      "4    TCGA-BA-6871  1.0    108.0   1960.77  11332.20   61040.20   402.572   \n",
      "..            ...  ...      ...       ...       ...        ...       ...   \n",
      "147  TCGA-QK-AA3K  0.0    253.0   2242.77   3855.33  210930.00   858.857   \n",
      "148  TCGA-T2-A6WZ  1.0    484.0   5483.76   1669.65    6987.68  4541.990   \n",
      "149  TCGA-UF-A7JS  1.0    680.0  16310.90   2346.79    3641.26  7357.250   \n",
      "150  TCGA-UP-A6WW  0.0    518.0  20406.10   5338.79   22111.50  1330.080   \n",
      "151  TCGA-WA-A7H4  0.0    443.0   7153.04   1789.26   52455.90  2401.440   \n",
      "\n",
      "        ITGAV  zscore_sum  \n",
      "0     4382.68    0.081425  \n",
      "1    17909.80    3.360815  \n",
      "2     7588.91    2.747196  \n",
      "3     6872.47    1.180502  \n",
      "4     2968.81    1.583133  \n",
      "..        ...         ...  \n",
      "147   3313.34    0.058513  \n",
      "148   1784.99   -3.688772  \n",
      "149   1756.35   -2.597735  \n",
      "150   6651.45    3.357774  \n",
      "151  13270.80    1.257905  \n",
      "\n",
      "[152 rows x 9 columns]\n",
      "              FID  PFI  PFI.time      SDC4     ICAM1        FN1      RHOD  \\\n",
      "0    TCGA-4P-AA8J  0.0     102.0   7723.31   3734.40  122122.00  2278.850   \n",
      "1    TCGA-BA-4074  1.0     396.0  17101.30   1989.34   95369.30  6075.160   \n",
      "2    TCGA-BA-4075  1.0     236.0  29713.00   1375.32   42006.70  4672.650   \n",
      "3    TCGA-BA-4077  1.0    1134.0  13060.20   3238.21   15856.10  1421.560   \n",
      "4    TCGA-BA-6871  1.0     108.0   1960.77  11332.20   61040.20   402.572   \n",
      "..            ...  ...       ...       ...       ...        ...       ...   \n",
      "147  TCGA-QK-AA3K  0.0     253.0   2242.77   3855.33  210930.00   858.857   \n",
      "148  TCGA-T2-A6WZ  1.0     229.0   5483.76   1669.65    6987.68  4541.990   \n",
      "149  TCGA-UF-A7JS  1.0     519.0  16310.90   2346.79    3641.26  7357.250   \n",
      "150  TCGA-UP-A6WW  0.0     518.0  20406.10   5338.79   22111.50  1330.080   \n",
      "151  TCGA-WA-A7H4  0.0     443.0   7153.04   1789.26   52455.90  2401.440   \n",
      "\n",
      "        ITGAV  zscore_sum  \n",
      "0     4382.68    0.081425  \n",
      "1    17909.80    3.360815  \n",
      "2     7588.91    2.747196  \n",
      "3     6872.47    1.180502  \n",
      "4     2968.81    1.583133  \n",
      "..        ...         ...  \n",
      "147   3313.34    0.058513  \n",
      "148   1784.99   -3.688772  \n",
      "149   1756.35   -2.597735  \n",
      "150   6651.45    3.357774  \n",
      "151  13270.80    1.257905  \n",
      "\n",
      "[152 rows x 9 columns]\n"
     ]
    }
   ],
   "source": [
    "zdf=df_rna.apply(stats.zscore)\n",
    "zdf['RHOD']=zdf['RHOD']*-1\n",
    "#zdf['FSCN1']=zdf['FSCN1']*-1\n",
    "print(zdf)\n",
    "zdf['zscore_sum']=zdf.sum(axis=1)\n",
    "zscore_sum=zdf['zscore_sum'].tolist()\n",
    "os_surv_hnsc['zscore_sum']=zscore_sum\n",
    "pfi_surv_hnsc['zscore_sum']=zscore_sum\n",
    "print(os_surv_hnsc)\n",
    "print(pfi_surv_hnsc)"
   ]
  },
  {
   "cell_type": "code",
   "execution_count": 67,
   "metadata": {},
   "outputs": [
    {
     "data": {
      "text/plain": [
       "31"
      ]
     },
     "execution_count": 67,
     "metadata": {},
     "output_type": "execute_result"
    }
   ],
   "source": [
    "os_surv_hnsc[\"zscore_group\"]=np.where(os_surv_hnsc[\"zscore_sum\"]>os_surv_hnsc[\"zscore_sum\"].quantile(0.8),\"high\",\"medium\")\n",
    "os_surv_hnsc[\"zscore_group\"]=np.where(os_surv_hnsc[\"zscore_sum\"]<os_surv_hnsc[\"zscore_sum\"].quantile(0.2),\"low\",os_surv_hnsc[\"zscore_group\"])\n",
    "(os_surv_hnsc[\"zscore_group\"]==\"high\").sum()\n",
    "(os_surv_hnsc[\"zscore_group\"]==\"low\").sum()"
   ]
  },
  {
   "cell_type": "code",
   "execution_count": 68,
   "metadata": {},
   "outputs": [
    {
     "data": {
      "text/plain": [
       "31"
      ]
     },
     "execution_count": 68,
     "metadata": {},
     "output_type": "execute_result"
    }
   ],
   "source": [
    "pfi_surv_hnsc[\"zscore_group\"]=np.where(pfi_surv_hnsc[\"zscore_sum\"]>pfi_surv_hnsc[\"zscore_sum\"].quantile(0.8),\"high\",\"medium\")\n",
    "pfi_surv_hnsc[\"zscore_group\"]=np.where(pfi_surv_hnsc[\"zscore_sum\"]<pfi_surv_hnsc[\"zscore_sum\"].quantile(0.2),\"low\",pfi_surv_hnsc[\"zscore_group\"])\n",
    "(pfi_surv_hnsc[\"zscore_group\"]==\"high\").sum()\n",
    "(pfi_surv_hnsc[\"zscore_group\"]==\"low\").sum()"
   ]
  },
  {
   "cell_type": "markdown",
   "metadata": {},
   "source": [
    "## Run Kaplan-Meier analysis"
   ]
  },
  {
   "cell_type": "code",
   "execution_count": 69,
   "metadata": {
    "scrolled": true
   },
   "outputs": [],
   "source": [
    " def run_surv_plot(surv_df,surv_type,col):\n",
    "        fig=plt.figure(figsize=(12,5))\n",
    "        ax1 = plt.subplot(1,2,1)\n",
    "            \n",
    "        groups = surv_df[col]\n",
    "        ix_high = (groups == \"high\")\n",
    "        #ix_med = (groups == \"medium\")\n",
    "        ix_low = (groups == \"low\")\n",
    "\n",
    "        kmf = KaplanMeierFitter()\n",
    "        kmf.fit(surv_df[surv_type+'.time'][ix_high], surv_df[surv_type][ix_high],label=\"Learn (n=31)\")\n",
    "        kmf.plot(color='green', ci_show=False, ax=ax1)\n",
    "            \n",
    "        kmf.fit(surv_df[surv_type+'.time'][ix_low], surv_df[surv_type][ix_low],label=\"Don't Learn/Forget (n=31)\")\n",
    "        kmf.plot(ax=ax1, color='orange', ci_show=False)\n",
    "        \n",
    "        #kmf.fit(surv_df[surv_type+'.time'][ix_med], surv_df[surv_type][ix_med],label=\"medium\")\n",
    "        #kmf.plot(ax=ax1, color='red', ci_show=False)\n",
    "    \n",
    "\n",
    "        results = logrank_test(surv_df[surv_type+'.time'][ix_high], surv_df[surv_type+'.time'][ix_low],event_observed_A=surv_df[surv_type][ix_high], event_observed_B=surv_df[surv_type][ix_low], alpha=.95) \n",
    "        #results = logrank_test(surv_df[surv_type+'.time'][ix_high], surv_df[surv_type+'.time'][ix_med],event_observed_A=surv_df[surv_type][ix_high], event_observed_B=surv_df[surv_type][ix_med], alpha=.95)\n",
    "        plt.title('{}\\nLog-rank test: p<{:.3}'.format(col,results.p_value))\n",
    "\n",
    "        plt.xlabel('Days')\n",
    "        plt.ylabel(\"% survival\")\n",
    "        plt.legend(frameon=False)\n",
    "\n",
    "        plt.tight_layout()\n",
    "\n",
    "        plt.savefig(col+'.pdf')\n",
    "        plt.close()\n",
    "        "
   ]
  },
  {
   "cell_type": "code",
   "execution_count": 70,
   "metadata": {},
   "outputs": [],
   "source": [
    "run_surv_plot(os_surv_hnsc,\"OS\",\"zscore_group\")"
   ]
  },
  {
   "cell_type": "code",
   "execution_count": 71,
   "metadata": {},
   "outputs": [],
   "source": [
    "run_surv_plot(pfi_surv_hnsc,\"PFI\",\"zscore_group\")"
   ]
  },
  {
   "cell_type": "code",
   "execution_count": null,
   "metadata": {},
   "outputs": [],
   "source": []
  }
 ],
 "metadata": {
  "kernelspec": {
   "display_name": "Python 3 (ipykernel)",
   "language": "python",
   "name": "python3"
  },
  "language_info": {
   "codemirror_mode": {
    "name": "ipython",
    "version": 3
   },
   "file_extension": ".py",
   "mimetype": "text/x-python",
   "name": "python",
   "nbconvert_exporter": "python",
   "pygments_lexer": "ipython3",
   "version": "3.9.7"
  }
 },
 "nbformat": 4,
 "nbformat_minor": 4
}
